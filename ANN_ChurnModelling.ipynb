{
  "nbformat": 4,
  "nbformat_minor": 0,
  "metadata": {
    "colab": {
      "provenance": [],
      "mount_file_id": "10WWMrGysX_qsu-ZHT2qtKSRDVoM68f6S",
      "authorship_tag": "ABX9TyONNd+eyXxa3qk9p503qa5x",
      "include_colab_link": true
    },
    "kernelspec": {
      "name": "python3",
      "display_name": "Python 3"
    },
    "language_info": {
      "name": "python"
    }
  },
  "cells": [
    {
      "cell_type": "markdown",
      "metadata": {
        "id": "view-in-github",
        "colab_type": "text"
      },
      "source": [
        "<a href=\"https://colab.research.google.com/github/kushagrasharma-13/Artificial_Neural_network/blob/main/ANN_ChurnModelling.ipynb\" target=\"_parent\"><img src=\"https://colab.research.google.com/assets/colab-badge.svg\" alt=\"Open In Colab\"/></a>"
      ]
    },
    {
      "cell_type": "markdown",
      "source": [
        "ANN on Churn Modelling Data-set\n",
        "\n",
        "Label Encoding, OneHot Encoding, Scaler Tranformation\n",
        "\n",
        "Confusion Matrix, Classification Report\n",
        "\n",
        "Accuracy, Precision, Recall, F1_score"
      ],
      "metadata": {
        "id": "F1KOOyBmRjTk"
      }
    },
    {
      "cell_type": "code",
      "source": [
        "from google.colab import drive\n",
        "drive.mount('/content/drive')"
      ],
      "metadata": {
        "id": "BQM7iWOBZPX7",
        "colab": {
          "base_uri": "https://localhost:8080/"
        },
        "outputId": "7f93dfa7-7689-42e5-f6da-fe874f7daf69"
      },
      "execution_count": null,
      "outputs": [
        {
          "output_type": "stream",
          "name": "stdout",
          "text": [
            "Drive already mounted at /content/drive; to attempt to forcibly remount, call drive.mount(\"/content/drive\", force_remount=True).\n"
          ]
        }
      ]
    },
    {
      "cell_type": "code",
      "execution_count": null,
      "metadata": {
        "id": "dqojWverIsFm"
      },
      "outputs": [],
      "source": [
        "import keras\n",
        "import sklearn\n",
        "import numpy as np\n",
        "import pandas as pd\n",
        "import tensorflow as tf\n",
        "from keras.layers import Dense\n",
        "from keras.models import Sequential\n",
        "from sklearn.compose import ColumnTransformer\n",
        "from sklearn.model_selection import train_test_split\n",
        "from sklearn.metrics import confusion_matrix, classification_report\n",
        "from sklearn.preprocessing import LabelEncoder, OneHotEncoder, StandardScaler\n",
        "from sklearn.metrics import accuracy_score, precision_score, recall_score, f1_score"
      ]
    },
    {
      "cell_type": "code",
      "source": [
        "print(np.__version__)\n",
        "print(tf.__version__)\n",
        "print(keras.__version__)\n",
        "print(sklearn.__version__)"
      ],
      "metadata": {
        "id": "kpXTNgVfJ6Hf",
        "colab": {
          "base_uri": "https://localhost:8080/"
        },
        "outputId": "84c35b76-351d-4676-ee53-b58a25020888"
      },
      "execution_count": null,
      "outputs": [
        {
          "output_type": "stream",
          "name": "stdout",
          "text": [
            "1.22.4\n",
            "2.12.0\n",
            "2.12.0\n",
            "1.2.2\n"
          ]
        }
      ]
    },
    {
      "cell_type": "code",
      "source": [
        "dataset = pd.read_csv('/content/drive/MyDrive/Python/Datasets/Churn_Modelling.csv')"
      ],
      "metadata": {
        "id": "uVq11KtEKj4M"
      },
      "execution_count": null,
      "outputs": []
    },
    {
      "cell_type": "code",
      "source": [
        "dataset"
      ],
      "metadata": {
        "id": "4muUlsHHKvls",
        "colab": {
          "base_uri": "https://localhost:8080/",
          "height": 488
        },
        "outputId": "0a9bc43b-b38f-46fa-8e42-43e25cd343a5"
      },
      "execution_count": null,
      "outputs": [
        {
          "output_type": "execute_result",
          "data": {
            "text/plain": [
              "      RowNumber  CustomerId    Surname  CreditScore Geography  Gender  Age  \\\n",
              "0             1    15634602   Hargrave          619    France  Female   42   \n",
              "1             2    15647311       Hill          608     Spain  Female   41   \n",
              "2             3    15619304       Onio          502    France  Female   42   \n",
              "3             4    15701354       Boni          699    France  Female   39   \n",
              "4             5    15737888   Mitchell          850     Spain  Female   43   \n",
              "...         ...         ...        ...          ...       ...     ...  ...   \n",
              "9995       9996    15606229   Obijiaku          771    France    Male   39   \n",
              "9996       9997    15569892  Johnstone          516    France    Male   35   \n",
              "9997       9998    15584532        Liu          709    France  Female   36   \n",
              "9998       9999    15682355  Sabbatini          772   Germany    Male   42   \n",
              "9999      10000    15628319     Walker          792    France  Female   28   \n",
              "\n",
              "      Tenure    Balance  NumOfProducts  HasCrCard  IsActiveMember  \\\n",
              "0          2       0.00              1          1               1   \n",
              "1          1   83807.86              1          0               1   \n",
              "2          8  159660.80              3          1               0   \n",
              "3          1       0.00              2          0               0   \n",
              "4          2  125510.82              1          1               1   \n",
              "...      ...        ...            ...        ...             ...   \n",
              "9995       5       0.00              2          1               0   \n",
              "9996      10   57369.61              1          1               1   \n",
              "9997       7       0.00              1          0               1   \n",
              "9998       3   75075.31              2          1               0   \n",
              "9999       4  130142.79              1          1               0   \n",
              "\n",
              "      EstimatedSalary  Exited  \n",
              "0           101348.88       1  \n",
              "1           112542.58       0  \n",
              "2           113931.57       1  \n",
              "3            93826.63       0  \n",
              "4            79084.10       0  \n",
              "...               ...     ...  \n",
              "9995         96270.64       0  \n",
              "9996        101699.77       0  \n",
              "9997         42085.58       1  \n",
              "9998         92888.52       1  \n",
              "9999         38190.78       0  \n",
              "\n",
              "[10000 rows x 14 columns]"
            ],
            "text/html": [
              "\n",
              "  <div id=\"df-ec59cb30-9129-4b0f-9eb3-1edb6aadf878\">\n",
              "    <div class=\"colab-df-container\">\n",
              "      <div>\n",
              "<style scoped>\n",
              "    .dataframe tbody tr th:only-of-type {\n",
              "        vertical-align: middle;\n",
              "    }\n",
              "\n",
              "    .dataframe tbody tr th {\n",
              "        vertical-align: top;\n",
              "    }\n",
              "\n",
              "    .dataframe thead th {\n",
              "        text-align: right;\n",
              "    }\n",
              "</style>\n",
              "<table border=\"1\" class=\"dataframe\">\n",
              "  <thead>\n",
              "    <tr style=\"text-align: right;\">\n",
              "      <th></th>\n",
              "      <th>RowNumber</th>\n",
              "      <th>CustomerId</th>\n",
              "      <th>Surname</th>\n",
              "      <th>CreditScore</th>\n",
              "      <th>Geography</th>\n",
              "      <th>Gender</th>\n",
              "      <th>Age</th>\n",
              "      <th>Tenure</th>\n",
              "      <th>Balance</th>\n",
              "      <th>NumOfProducts</th>\n",
              "      <th>HasCrCard</th>\n",
              "      <th>IsActiveMember</th>\n",
              "      <th>EstimatedSalary</th>\n",
              "      <th>Exited</th>\n",
              "    </tr>\n",
              "  </thead>\n",
              "  <tbody>\n",
              "    <tr>\n",
              "      <th>0</th>\n",
              "      <td>1</td>\n",
              "      <td>15634602</td>\n",
              "      <td>Hargrave</td>\n",
              "      <td>619</td>\n",
              "      <td>France</td>\n",
              "      <td>Female</td>\n",
              "      <td>42</td>\n",
              "      <td>2</td>\n",
              "      <td>0.00</td>\n",
              "      <td>1</td>\n",
              "      <td>1</td>\n",
              "      <td>1</td>\n",
              "      <td>101348.88</td>\n",
              "      <td>1</td>\n",
              "    </tr>\n",
              "    <tr>\n",
              "      <th>1</th>\n",
              "      <td>2</td>\n",
              "      <td>15647311</td>\n",
              "      <td>Hill</td>\n",
              "      <td>608</td>\n",
              "      <td>Spain</td>\n",
              "      <td>Female</td>\n",
              "      <td>41</td>\n",
              "      <td>1</td>\n",
              "      <td>83807.86</td>\n",
              "      <td>1</td>\n",
              "      <td>0</td>\n",
              "      <td>1</td>\n",
              "      <td>112542.58</td>\n",
              "      <td>0</td>\n",
              "    </tr>\n",
              "    <tr>\n",
              "      <th>2</th>\n",
              "      <td>3</td>\n",
              "      <td>15619304</td>\n",
              "      <td>Onio</td>\n",
              "      <td>502</td>\n",
              "      <td>France</td>\n",
              "      <td>Female</td>\n",
              "      <td>42</td>\n",
              "      <td>8</td>\n",
              "      <td>159660.80</td>\n",
              "      <td>3</td>\n",
              "      <td>1</td>\n",
              "      <td>0</td>\n",
              "      <td>113931.57</td>\n",
              "      <td>1</td>\n",
              "    </tr>\n",
              "    <tr>\n",
              "      <th>3</th>\n",
              "      <td>4</td>\n",
              "      <td>15701354</td>\n",
              "      <td>Boni</td>\n",
              "      <td>699</td>\n",
              "      <td>France</td>\n",
              "      <td>Female</td>\n",
              "      <td>39</td>\n",
              "      <td>1</td>\n",
              "      <td>0.00</td>\n",
              "      <td>2</td>\n",
              "      <td>0</td>\n",
              "      <td>0</td>\n",
              "      <td>93826.63</td>\n",
              "      <td>0</td>\n",
              "    </tr>\n",
              "    <tr>\n",
              "      <th>4</th>\n",
              "      <td>5</td>\n",
              "      <td>15737888</td>\n",
              "      <td>Mitchell</td>\n",
              "      <td>850</td>\n",
              "      <td>Spain</td>\n",
              "      <td>Female</td>\n",
              "      <td>43</td>\n",
              "      <td>2</td>\n",
              "      <td>125510.82</td>\n",
              "      <td>1</td>\n",
              "      <td>1</td>\n",
              "      <td>1</td>\n",
              "      <td>79084.10</td>\n",
              "      <td>0</td>\n",
              "    </tr>\n",
              "    <tr>\n",
              "      <th>...</th>\n",
              "      <td>...</td>\n",
              "      <td>...</td>\n",
              "      <td>...</td>\n",
              "      <td>...</td>\n",
              "      <td>...</td>\n",
              "      <td>...</td>\n",
              "      <td>...</td>\n",
              "      <td>...</td>\n",
              "      <td>...</td>\n",
              "      <td>...</td>\n",
              "      <td>...</td>\n",
              "      <td>...</td>\n",
              "      <td>...</td>\n",
              "      <td>...</td>\n",
              "    </tr>\n",
              "    <tr>\n",
              "      <th>9995</th>\n",
              "      <td>9996</td>\n",
              "      <td>15606229</td>\n",
              "      <td>Obijiaku</td>\n",
              "      <td>771</td>\n",
              "      <td>France</td>\n",
              "      <td>Male</td>\n",
              "      <td>39</td>\n",
              "      <td>5</td>\n",
              "      <td>0.00</td>\n",
              "      <td>2</td>\n",
              "      <td>1</td>\n",
              "      <td>0</td>\n",
              "      <td>96270.64</td>\n",
              "      <td>0</td>\n",
              "    </tr>\n",
              "    <tr>\n",
              "      <th>9996</th>\n",
              "      <td>9997</td>\n",
              "      <td>15569892</td>\n",
              "      <td>Johnstone</td>\n",
              "      <td>516</td>\n",
              "      <td>France</td>\n",
              "      <td>Male</td>\n",
              "      <td>35</td>\n",
              "      <td>10</td>\n",
              "      <td>57369.61</td>\n",
              "      <td>1</td>\n",
              "      <td>1</td>\n",
              "      <td>1</td>\n",
              "      <td>101699.77</td>\n",
              "      <td>0</td>\n",
              "    </tr>\n",
              "    <tr>\n",
              "      <th>9997</th>\n",
              "      <td>9998</td>\n",
              "      <td>15584532</td>\n",
              "      <td>Liu</td>\n",
              "      <td>709</td>\n",
              "      <td>France</td>\n",
              "      <td>Female</td>\n",
              "      <td>36</td>\n",
              "      <td>7</td>\n",
              "      <td>0.00</td>\n",
              "      <td>1</td>\n",
              "      <td>0</td>\n",
              "      <td>1</td>\n",
              "      <td>42085.58</td>\n",
              "      <td>1</td>\n",
              "    </tr>\n",
              "    <tr>\n",
              "      <th>9998</th>\n",
              "      <td>9999</td>\n",
              "      <td>15682355</td>\n",
              "      <td>Sabbatini</td>\n",
              "      <td>772</td>\n",
              "      <td>Germany</td>\n",
              "      <td>Male</td>\n",
              "      <td>42</td>\n",
              "      <td>3</td>\n",
              "      <td>75075.31</td>\n",
              "      <td>2</td>\n",
              "      <td>1</td>\n",
              "      <td>0</td>\n",
              "      <td>92888.52</td>\n",
              "      <td>1</td>\n",
              "    </tr>\n",
              "    <tr>\n",
              "      <th>9999</th>\n",
              "      <td>10000</td>\n",
              "      <td>15628319</td>\n",
              "      <td>Walker</td>\n",
              "      <td>792</td>\n",
              "      <td>France</td>\n",
              "      <td>Female</td>\n",
              "      <td>28</td>\n",
              "      <td>4</td>\n",
              "      <td>130142.79</td>\n",
              "      <td>1</td>\n",
              "      <td>1</td>\n",
              "      <td>0</td>\n",
              "      <td>38190.78</td>\n",
              "      <td>0</td>\n",
              "    </tr>\n",
              "  </tbody>\n",
              "</table>\n",
              "<p>10000 rows × 14 columns</p>\n",
              "</div>\n",
              "      <button class=\"colab-df-convert\" onclick=\"convertToInteractive('df-ec59cb30-9129-4b0f-9eb3-1edb6aadf878')\"\n",
              "              title=\"Convert this dataframe to an interactive table.\"\n",
              "              style=\"display:none;\">\n",
              "        \n",
              "  <svg xmlns=\"http://www.w3.org/2000/svg\" height=\"24px\"viewBox=\"0 0 24 24\"\n",
              "       width=\"24px\">\n",
              "    <path d=\"M0 0h24v24H0V0z\" fill=\"none\"/>\n",
              "    <path d=\"M18.56 5.44l.94 2.06.94-2.06 2.06-.94-2.06-.94-.94-2.06-.94 2.06-2.06.94zm-11 1L8.5 8.5l.94-2.06 2.06-.94-2.06-.94L8.5 2.5l-.94 2.06-2.06.94zm10 10l.94 2.06.94-2.06 2.06-.94-2.06-.94-.94-2.06-.94 2.06-2.06.94z\"/><path d=\"M17.41 7.96l-1.37-1.37c-.4-.4-.92-.59-1.43-.59-.52 0-1.04.2-1.43.59L10.3 9.45l-7.72 7.72c-.78.78-.78 2.05 0 2.83L4 21.41c.39.39.9.59 1.41.59.51 0 1.02-.2 1.41-.59l7.78-7.78 2.81-2.81c.8-.78.8-2.07 0-2.86zM5.41 20L4 18.59l7.72-7.72 1.47 1.35L5.41 20z\"/>\n",
              "  </svg>\n",
              "      </button>\n",
              "      \n",
              "  <style>\n",
              "    .colab-df-container {\n",
              "      display:flex;\n",
              "      flex-wrap:wrap;\n",
              "      gap: 12px;\n",
              "    }\n",
              "\n",
              "    .colab-df-convert {\n",
              "      background-color: #E8F0FE;\n",
              "      border: none;\n",
              "      border-radius: 50%;\n",
              "      cursor: pointer;\n",
              "      display: none;\n",
              "      fill: #1967D2;\n",
              "      height: 32px;\n",
              "      padding: 0 0 0 0;\n",
              "      width: 32px;\n",
              "    }\n",
              "\n",
              "    .colab-df-convert:hover {\n",
              "      background-color: #E2EBFA;\n",
              "      box-shadow: 0px 1px 2px rgba(60, 64, 67, 0.3), 0px 1px 3px 1px rgba(60, 64, 67, 0.15);\n",
              "      fill: #174EA6;\n",
              "    }\n",
              "\n",
              "    [theme=dark] .colab-df-convert {\n",
              "      background-color: #3B4455;\n",
              "      fill: #D2E3FC;\n",
              "    }\n",
              "\n",
              "    [theme=dark] .colab-df-convert:hover {\n",
              "      background-color: #434B5C;\n",
              "      box-shadow: 0px 1px 3px 1px rgba(0, 0, 0, 0.15);\n",
              "      filter: drop-shadow(0px 1px 2px rgba(0, 0, 0, 0.3));\n",
              "      fill: #FFFFFF;\n",
              "    }\n",
              "  </style>\n",
              "\n",
              "      <script>\n",
              "        const buttonEl =\n",
              "          document.querySelector('#df-ec59cb30-9129-4b0f-9eb3-1edb6aadf878 button.colab-df-convert');\n",
              "        buttonEl.style.display =\n",
              "          google.colab.kernel.accessAllowed ? 'block' : 'none';\n",
              "\n",
              "        async function convertToInteractive(key) {\n",
              "          const element = document.querySelector('#df-ec59cb30-9129-4b0f-9eb3-1edb6aadf878');\n",
              "          const dataTable =\n",
              "            await google.colab.kernel.invokeFunction('convertToInteractive',\n",
              "                                                     [key], {});\n",
              "          if (!dataTable) return;\n",
              "\n",
              "          const docLinkHtml = 'Like what you see? Visit the ' +\n",
              "            '<a target=\"_blank\" href=https://colab.research.google.com/notebooks/data_table.ipynb>data table notebook</a>'\n",
              "            + ' to learn more about interactive tables.';\n",
              "          element.innerHTML = '';\n",
              "          dataTable['output_type'] = 'display_data';\n",
              "          await google.colab.output.renderOutput(dataTable, element);\n",
              "          const docLink = document.createElement('div');\n",
              "          docLink.innerHTML = docLinkHtml;\n",
              "          element.appendChild(docLink);\n",
              "        }\n",
              "      </script>\n",
              "    </div>\n",
              "  </div>\n",
              "  "
            ]
          },
          "metadata": {},
          "execution_count": 5
        }
      ]
    },
    {
      "cell_type": "code",
      "source": [
        "dataset.info()"
      ],
      "metadata": {
        "id": "DRy-E49jKwRo",
        "colab": {
          "base_uri": "https://localhost:8080/"
        },
        "outputId": "32094a5a-74da-4198-9caf-042123ecb2b2"
      },
      "execution_count": null,
      "outputs": [
        {
          "output_type": "stream",
          "name": "stdout",
          "text": [
            "<class 'pandas.core.frame.DataFrame'>\n",
            "RangeIndex: 10000 entries, 0 to 9999\n",
            "Data columns (total 14 columns):\n",
            " #   Column           Non-Null Count  Dtype  \n",
            "---  ------           --------------  -----  \n",
            " 0   RowNumber        10000 non-null  int64  \n",
            " 1   CustomerId       10000 non-null  int64  \n",
            " 2   Surname          10000 non-null  object \n",
            " 3   CreditScore      10000 non-null  int64  \n",
            " 4   Geography        10000 non-null  object \n",
            " 5   Gender           10000 non-null  object \n",
            " 6   Age              10000 non-null  int64  \n",
            " 7   Tenure           10000 non-null  int64  \n",
            " 8   Balance          10000 non-null  float64\n",
            " 9   NumOfProducts    10000 non-null  int64  \n",
            " 10  HasCrCard        10000 non-null  int64  \n",
            " 11  IsActiveMember   10000 non-null  int64  \n",
            " 12  EstimatedSalary  10000 non-null  float64\n",
            " 13  Exited           10000 non-null  int64  \n",
            "dtypes: float64(2), int64(9), object(3)\n",
            "memory usage: 1.1+ MB\n"
          ]
        }
      ]
    },
    {
      "cell_type": "code",
      "source": [
        "corr = dataset.corr()\n",
        "corr.style.background_gradient(cmap='coolwarm')"
      ],
      "metadata": {
        "colab": {
          "base_uri": "https://localhost:8080/",
          "height": 449
        },
        "id": "gk3-2CYdTrcs",
        "outputId": "39731de7-6649-479a-c0ba-c0c68a7090a8"
      },
      "execution_count": null,
      "outputs": [
        {
          "output_type": "stream",
          "name": "stderr",
          "text": [
            "<ipython-input-7-2578b6b05f7c>:1: FutureWarning: The default value of numeric_only in DataFrame.corr is deprecated. In a future version, it will default to False. Select only valid columns or specify the value of numeric_only to silence this warning.\n",
            "  corr = dataset.corr()\n"
          ]
        },
        {
          "output_type": "execute_result",
          "data": {
            "text/plain": [
              "<pandas.io.formats.style.Styler at 0x7f4c531776d0>"
            ],
            "text/html": [
              "<style type=\"text/css\">\n",
              "#T_082f1_row0_col0, #T_082f1_row1_col1, #T_082f1_row2_col2, #T_082f1_row3_col3, #T_082f1_row4_col4, #T_082f1_row5_col5, #T_082f1_row6_col6, #T_082f1_row7_col7, #T_082f1_row8_col8, #T_082f1_row9_col9, #T_082f1_row10_col10 {\n",
              "  background-color: #b40426;\n",
              "  color: #f1f1f1;\n",
              "}\n",
              "#T_082f1_row0_col1, #T_082f1_row3_col0, #T_082f1_row3_col4, #T_082f1_row4_col9, #T_082f1_row5_col4, #T_082f1_row6_col7, #T_082f1_row7_col0, #T_082f1_row7_col3, #T_082f1_row8_col1 {\n",
              "  background-color: #3f53c6;\n",
              "  color: #f1f1f1;\n",
              "}\n",
              "#T_082f1_row0_col2, #T_082f1_row1_col2, #T_082f1_row5_col2, #T_082f1_row6_col1, #T_082f1_row9_col4 {\n",
              "  background-color: #445acc;\n",
              "  color: #f1f1f1;\n",
              "}\n",
              "#T_082f1_row0_col3, #T_082f1_row2_col4, #T_082f1_row8_col0, #T_082f1_row9_col1 {\n",
              "  background-color: #4358cb;\n",
              "  color: #f1f1f1;\n",
              "}\n",
              "#T_082f1_row0_col4, #T_082f1_row1_col0, #T_082f1_row2_col0, #T_082f1_row2_col1, #T_082f1_row3_col2, #T_082f1_row4_col3, #T_082f1_row6_col0, #T_082f1_row7_col2, #T_082f1_row9_col3, #T_082f1_row10_col9 {\n",
              "  background-color: #4055c8;\n",
              "  color: #f1f1f1;\n",
              "}\n",
              "#T_082f1_row0_col5, #T_082f1_row1_col5, #T_082f1_row4_col5, #T_082f1_row8_col5 {\n",
              "  background-color: #84a7fc;\n",
              "  color: #f1f1f1;\n",
              "}\n",
              "#T_082f1_row0_col6, #T_082f1_row8_col6 {\n",
              "  background-color: #89acfd;\n",
              "  color: #000000;\n",
              "}\n",
              "#T_082f1_row0_col7, #T_082f1_row1_col4, #T_082f1_row10_col4 {\n",
              "  background-color: #3e51c5;\n",
              "  color: #f1f1f1;\n",
              "}\n",
              "#T_082f1_row0_col8, #T_082f1_row9_col10 {\n",
              "  background-color: #688aef;\n",
              "  color: #f1f1f1;\n",
              "}\n",
              "#T_082f1_row0_col9, #T_082f1_row3_col9, #T_082f1_row5_col0, #T_082f1_row9_col7, #T_082f1_row10_col7 {\n",
              "  background-color: #3c4ec2;\n",
              "  color: #f1f1f1;\n",
              "}\n",
              "#T_082f1_row0_col10 {\n",
              "  background-color: #5f7fe8;\n",
              "  color: #f1f1f1;\n",
              "}\n",
              "#T_082f1_row1_col3, #T_082f1_row4_col7, #T_082f1_row6_col2 {\n",
              "  background-color: #455cce;\n",
              "  color: #f1f1f1;\n",
              "}\n",
              "#T_082f1_row1_col6 {\n",
              "  background-color: #8caffe;\n",
              "  color: #000000;\n",
              "}\n",
              "#T_082f1_row1_col7, #T_082f1_row3_col7, #T_082f1_row4_col1, #T_082f1_row5_col1, #T_082f1_row5_col6, #T_082f1_row5_col7, #T_082f1_row6_col3, #T_082f1_row6_col5, #T_082f1_row7_col1, #T_082f1_row7_col9, #T_082f1_row8_col4, #T_082f1_row8_col7, #T_082f1_row8_col9, #T_082f1_row8_col10, #T_082f1_row10_col0, #T_082f1_row10_col2, #T_082f1_row10_col8 {\n",
              "  background-color: #3b4cc0;\n",
              "  color: #f1f1f1;\n",
              "}\n",
              "#T_082f1_row1_col8 {\n",
              "  background-color: #6485ec;\n",
              "  color: #f1f1f1;\n",
              "}\n",
              "#T_082f1_row1_col9, #T_082f1_row2_col3, #T_082f1_row3_col1, #T_082f1_row4_col2, #T_082f1_row5_col9, #T_082f1_row6_col9, #T_082f1_row9_col2 {\n",
              "  background-color: #4257c9;\n",
              "  color: #f1f1f1;\n",
              "}\n",
              "#T_082f1_row1_col10 {\n",
              "  background-color: #6384eb;\n",
              "  color: #f1f1f1;\n",
              "}\n",
              "#T_082f1_row2_col5, #T_082f1_row5_col10, #T_082f1_row7_col6 {\n",
              "  background-color: #88abfd;\n",
              "  color: #000000;\n",
              "}\n",
              "#T_082f1_row2_col6, #T_082f1_row4_col6, #T_082f1_row9_col5, #T_082f1_row9_col6 {\n",
              "  background-color: #8badfd;\n",
              "  color: #000000;\n",
              "}\n",
              "#T_082f1_row2_col7, #T_082f1_row2_col9, #T_082f1_row4_col0, #T_082f1_row9_col0, #T_082f1_row10_col1 {\n",
              "  background-color: #3d50c3;\n",
              "  color: #f1f1f1;\n",
              "}\n",
              "#T_082f1_row2_col8 {\n",
              "  background-color: #6c8ff1;\n",
              "  color: #f1f1f1;\n",
              "}\n",
              "#T_082f1_row2_col10, #T_082f1_row4_col8, #T_082f1_row8_col3 {\n",
              "  background-color: #5d7ce6;\n",
              "  color: #f1f1f1;\n",
              "}\n",
              "#T_082f1_row3_col5 {\n",
              "  background-color: #8fb1fe;\n",
              "  color: #000000;\n",
              "}\n",
              "#T_082f1_row3_col6, #T_082f1_row3_col8 {\n",
              "  background-color: #7ea1fa;\n",
              "  color: #f1f1f1;\n",
              "}\n",
              "#T_082f1_row3_col10 {\n",
              "  background-color: #bad0f8;\n",
              "  color: #000000;\n",
              "}\n",
              "#T_082f1_row4_col10, #T_082f1_row7_col8 {\n",
              "  background-color: #6180e9;\n",
              "  color: #f1f1f1;\n",
              "}\n",
              "#T_082f1_row5_col3 {\n",
              "  background-color: #4b64d5;\n",
              "  color: #f1f1f1;\n",
              "}\n",
              "#T_082f1_row5_col8, #T_082f1_row7_col10, #T_082f1_row9_col8 {\n",
              "  background-color: #6282ea;\n",
              "  color: #f1f1f1;\n",
              "}\n",
              "#T_082f1_row6_col4 {\n",
              "  background-color: #465ecf;\n",
              "  color: #f1f1f1;\n",
              "}\n",
              "#T_082f1_row6_col8 {\n",
              "  background-color: #6788ee;\n",
              "  color: #f1f1f1;\n",
              "}\n",
              "#T_082f1_row6_col10 {\n",
              "  background-color: #5673e0;\n",
              "  color: #f1f1f1;\n",
              "}\n",
              "#T_082f1_row7_col4 {\n",
              "  background-color: #4961d2;\n",
              "  color: #f1f1f1;\n",
              "}\n",
              "#T_082f1_row7_col5 {\n",
              "  background-color: #82a6fb;\n",
              "  color: #f1f1f1;\n",
              "}\n",
              "#T_082f1_row8_col2 {\n",
              "  background-color: #4a63d3;\n",
              "  color: #f1f1f1;\n",
              "}\n",
              "#T_082f1_row10_col3 {\n",
              "  background-color: #a1c0ff;\n",
              "  color: #000000;\n",
              "}\n",
              "#T_082f1_row10_col5 {\n",
              "  background-color: #a6c4fe;\n",
              "  color: #000000;\n",
              "}\n",
              "#T_082f1_row10_col6 {\n",
              "  background-color: #7a9df8;\n",
              "  color: #f1f1f1;\n",
              "}\n",
              "</style>\n",
              "<table id=\"T_082f1\" class=\"dataframe\">\n",
              "  <thead>\n",
              "    <tr>\n",
              "      <th class=\"blank level0\" >&nbsp;</th>\n",
              "      <th id=\"T_082f1_level0_col0\" class=\"col_heading level0 col0\" >RowNumber</th>\n",
              "      <th id=\"T_082f1_level0_col1\" class=\"col_heading level0 col1\" >CustomerId</th>\n",
              "      <th id=\"T_082f1_level0_col2\" class=\"col_heading level0 col2\" >CreditScore</th>\n",
              "      <th id=\"T_082f1_level0_col3\" class=\"col_heading level0 col3\" >Age</th>\n",
              "      <th id=\"T_082f1_level0_col4\" class=\"col_heading level0 col4\" >Tenure</th>\n",
              "      <th id=\"T_082f1_level0_col5\" class=\"col_heading level0 col5\" >Balance</th>\n",
              "      <th id=\"T_082f1_level0_col6\" class=\"col_heading level0 col6\" >NumOfProducts</th>\n",
              "      <th id=\"T_082f1_level0_col7\" class=\"col_heading level0 col7\" >HasCrCard</th>\n",
              "      <th id=\"T_082f1_level0_col8\" class=\"col_heading level0 col8\" >IsActiveMember</th>\n",
              "      <th id=\"T_082f1_level0_col9\" class=\"col_heading level0 col9\" >EstimatedSalary</th>\n",
              "      <th id=\"T_082f1_level0_col10\" class=\"col_heading level0 col10\" >Exited</th>\n",
              "    </tr>\n",
              "  </thead>\n",
              "  <tbody>\n",
              "    <tr>\n",
              "      <th id=\"T_082f1_level0_row0\" class=\"row_heading level0 row0\" >RowNumber</th>\n",
              "      <td id=\"T_082f1_row0_col0\" class=\"data row0 col0\" >1.000000</td>\n",
              "      <td id=\"T_082f1_row0_col1\" class=\"data row0 col1\" >0.004202</td>\n",
              "      <td id=\"T_082f1_row0_col2\" class=\"data row0 col2\" >0.005840</td>\n",
              "      <td id=\"T_082f1_row0_col3\" class=\"data row0 col3\" >0.000783</td>\n",
              "      <td id=\"T_082f1_row0_col4\" class=\"data row0 col4\" >-0.006495</td>\n",
              "      <td id=\"T_082f1_row0_col5\" class=\"data row0 col5\" >-0.009067</td>\n",
              "      <td id=\"T_082f1_row0_col6\" class=\"data row0 col6\" >0.007246</td>\n",
              "      <td id=\"T_082f1_row0_col7\" class=\"data row0 col7\" >0.000599</td>\n",
              "      <td id=\"T_082f1_row0_col8\" class=\"data row0 col8\" >0.012044</td>\n",
              "      <td id=\"T_082f1_row0_col9\" class=\"data row0 col9\" >-0.005988</td>\n",
              "      <td id=\"T_082f1_row0_col10\" class=\"data row0 col10\" >-0.016571</td>\n",
              "    </tr>\n",
              "    <tr>\n",
              "      <th id=\"T_082f1_level0_row1\" class=\"row_heading level0 row1\" >CustomerId</th>\n",
              "      <td id=\"T_082f1_row1_col0\" class=\"data row1 col0\" >0.004202</td>\n",
              "      <td id=\"T_082f1_row1_col1\" class=\"data row1 col1\" >1.000000</td>\n",
              "      <td id=\"T_082f1_row1_col2\" class=\"data row1 col2\" >0.005308</td>\n",
              "      <td id=\"T_082f1_row1_col3\" class=\"data row1 col3\" >0.009497</td>\n",
              "      <td id=\"T_082f1_row1_col4\" class=\"data row1 col4\" >-0.014883</td>\n",
              "      <td id=\"T_082f1_row1_col5\" class=\"data row1 col5\" >-0.012419</td>\n",
              "      <td id=\"T_082f1_row1_col6\" class=\"data row1 col6\" >0.016972</td>\n",
              "      <td id=\"T_082f1_row1_col7\" class=\"data row1 col7\" >-0.014025</td>\n",
              "      <td id=\"T_082f1_row1_col8\" class=\"data row1 col8\" >0.001665</td>\n",
              "      <td id=\"T_082f1_row1_col9\" class=\"data row1 col9\" >0.015271</td>\n",
              "      <td id=\"T_082f1_row1_col10\" class=\"data row1 col10\" >-0.006248</td>\n",
              "    </tr>\n",
              "    <tr>\n",
              "      <th id=\"T_082f1_level0_row2\" class=\"row_heading level0 row2\" >CreditScore</th>\n",
              "      <td id=\"T_082f1_row2_col0\" class=\"data row2 col0\" >0.005840</td>\n",
              "      <td id=\"T_082f1_row2_col1\" class=\"data row2 col1\" >0.005308</td>\n",
              "      <td id=\"T_082f1_row2_col2\" class=\"data row2 col2\" >1.000000</td>\n",
              "      <td id=\"T_082f1_row2_col3\" class=\"data row2 col3\" >-0.003965</td>\n",
              "      <td id=\"T_082f1_row2_col4\" class=\"data row2 col4\" >0.000842</td>\n",
              "      <td id=\"T_082f1_row2_col5\" class=\"data row2 col5\" >0.006268</td>\n",
              "      <td id=\"T_082f1_row2_col6\" class=\"data row2 col6\" >0.012238</td>\n",
              "      <td id=\"T_082f1_row2_col7\" class=\"data row2 col7\" >-0.005458</td>\n",
              "      <td id=\"T_082f1_row2_col8\" class=\"data row2 col8\" >0.025651</td>\n",
              "      <td id=\"T_082f1_row2_col9\" class=\"data row2 col9\" >-0.001384</td>\n",
              "      <td id=\"T_082f1_row2_col10\" class=\"data row2 col10\" >-0.027094</td>\n",
              "    </tr>\n",
              "    <tr>\n",
              "      <th id=\"T_082f1_level0_row3\" class=\"row_heading level0 row3\" >Age</th>\n",
              "      <td id=\"T_082f1_row3_col0\" class=\"data row3 col0\" >0.000783</td>\n",
              "      <td id=\"T_082f1_row3_col1\" class=\"data row3 col1\" >0.009497</td>\n",
              "      <td id=\"T_082f1_row3_col2\" class=\"data row3 col2\" >-0.003965</td>\n",
              "      <td id=\"T_082f1_row3_col3\" class=\"data row3 col3\" >1.000000</td>\n",
              "      <td id=\"T_082f1_row3_col4\" class=\"data row3 col4\" >-0.009997</td>\n",
              "      <td id=\"T_082f1_row3_col5\" class=\"data row3 col5\" >0.028308</td>\n",
              "      <td id=\"T_082f1_row3_col6\" class=\"data row3 col6\" >-0.030680</td>\n",
              "      <td id=\"T_082f1_row3_col7\" class=\"data row3 col7\" >-0.011721</td>\n",
              "      <td id=\"T_082f1_row3_col8\" class=\"data row3 col8\" >0.085472</td>\n",
              "      <td id=\"T_082f1_row3_col9\" class=\"data row3 col9\" >-0.007201</td>\n",
              "      <td id=\"T_082f1_row3_col10\" class=\"data row3 col10\" >0.285323</td>\n",
              "    </tr>\n",
              "    <tr>\n",
              "      <th id=\"T_082f1_level0_row4\" class=\"row_heading level0 row4\" >Tenure</th>\n",
              "      <td id=\"T_082f1_row4_col0\" class=\"data row4 col0\" >-0.006495</td>\n",
              "      <td id=\"T_082f1_row4_col1\" class=\"data row4 col1\" >-0.014883</td>\n",
              "      <td id=\"T_082f1_row4_col2\" class=\"data row4 col2\" >0.000842</td>\n",
              "      <td id=\"T_082f1_row4_col3\" class=\"data row4 col3\" >-0.009997</td>\n",
              "      <td id=\"T_082f1_row4_col4\" class=\"data row4 col4\" >1.000000</td>\n",
              "      <td id=\"T_082f1_row4_col5\" class=\"data row4 col5\" >-0.012254</td>\n",
              "      <td id=\"T_082f1_row4_col6\" class=\"data row4 col6\" >0.013444</td>\n",
              "      <td id=\"T_082f1_row4_col7\" class=\"data row4 col7\" >0.022583</td>\n",
              "      <td id=\"T_082f1_row4_col8\" class=\"data row4 col8\" >-0.028362</td>\n",
              "      <td id=\"T_082f1_row4_col9\" class=\"data row4 col9\" >0.007784</td>\n",
              "      <td id=\"T_082f1_row4_col10\" class=\"data row4 col10\" >-0.014001</td>\n",
              "    </tr>\n",
              "    <tr>\n",
              "      <th id=\"T_082f1_level0_row5\" class=\"row_heading level0 row5\" >Balance</th>\n",
              "      <td id=\"T_082f1_row5_col0\" class=\"data row5 col0\" >-0.009067</td>\n",
              "      <td id=\"T_082f1_row5_col1\" class=\"data row5 col1\" >-0.012419</td>\n",
              "      <td id=\"T_082f1_row5_col2\" class=\"data row5 col2\" >0.006268</td>\n",
              "      <td id=\"T_082f1_row5_col3\" class=\"data row5 col3\" >0.028308</td>\n",
              "      <td id=\"T_082f1_row5_col4\" class=\"data row5 col4\" >-0.012254</td>\n",
              "      <td id=\"T_082f1_row5_col5\" class=\"data row5 col5\" >1.000000</td>\n",
              "      <td id=\"T_082f1_row5_col6\" class=\"data row5 col6\" >-0.304180</td>\n",
              "      <td id=\"T_082f1_row5_col7\" class=\"data row5 col7\" >-0.014858</td>\n",
              "      <td id=\"T_082f1_row5_col8\" class=\"data row5 col8\" >-0.010084</td>\n",
              "      <td id=\"T_082f1_row5_col9\" class=\"data row5 col9\" >0.012797</td>\n",
              "      <td id=\"T_082f1_row5_col10\" class=\"data row5 col10\" >0.118533</td>\n",
              "    </tr>\n",
              "    <tr>\n",
              "      <th id=\"T_082f1_level0_row6\" class=\"row_heading level0 row6\" >NumOfProducts</th>\n",
              "      <td id=\"T_082f1_row6_col0\" class=\"data row6 col0\" >0.007246</td>\n",
              "      <td id=\"T_082f1_row6_col1\" class=\"data row6 col1\" >0.016972</td>\n",
              "      <td id=\"T_082f1_row6_col2\" class=\"data row6 col2\" >0.012238</td>\n",
              "      <td id=\"T_082f1_row6_col3\" class=\"data row6 col3\" >-0.030680</td>\n",
              "      <td id=\"T_082f1_row6_col4\" class=\"data row6 col4\" >0.013444</td>\n",
              "      <td id=\"T_082f1_row6_col5\" class=\"data row6 col5\" >-0.304180</td>\n",
              "      <td id=\"T_082f1_row6_col6\" class=\"data row6 col6\" >1.000000</td>\n",
              "      <td id=\"T_082f1_row6_col7\" class=\"data row6 col7\" >0.003183</td>\n",
              "      <td id=\"T_082f1_row6_col8\" class=\"data row6 col8\" >0.009612</td>\n",
              "      <td id=\"T_082f1_row6_col9\" class=\"data row6 col9\" >0.014204</td>\n",
              "      <td id=\"T_082f1_row6_col10\" class=\"data row6 col10\" >-0.047820</td>\n",
              "    </tr>\n",
              "    <tr>\n",
              "      <th id=\"T_082f1_level0_row7\" class=\"row_heading level0 row7\" >HasCrCard</th>\n",
              "      <td id=\"T_082f1_row7_col0\" class=\"data row7 col0\" >0.000599</td>\n",
              "      <td id=\"T_082f1_row7_col1\" class=\"data row7 col1\" >-0.014025</td>\n",
              "      <td id=\"T_082f1_row7_col2\" class=\"data row7 col2\" >-0.005458</td>\n",
              "      <td id=\"T_082f1_row7_col3\" class=\"data row7 col3\" >-0.011721</td>\n",
              "      <td id=\"T_082f1_row7_col4\" class=\"data row7 col4\" >0.022583</td>\n",
              "      <td id=\"T_082f1_row7_col5\" class=\"data row7 col5\" >-0.014858</td>\n",
              "      <td id=\"T_082f1_row7_col6\" class=\"data row7 col6\" >0.003183</td>\n",
              "      <td id=\"T_082f1_row7_col7\" class=\"data row7 col7\" >1.000000</td>\n",
              "      <td id=\"T_082f1_row7_col8\" class=\"data row7 col8\" >-0.011866</td>\n",
              "      <td id=\"T_082f1_row7_col9\" class=\"data row7 col9\" >-0.009933</td>\n",
              "      <td id=\"T_082f1_row7_col10\" class=\"data row7 col10\" >-0.007138</td>\n",
              "    </tr>\n",
              "    <tr>\n",
              "      <th id=\"T_082f1_level0_row8\" class=\"row_heading level0 row8\" >IsActiveMember</th>\n",
              "      <td id=\"T_082f1_row8_col0\" class=\"data row8 col0\" >0.012044</td>\n",
              "      <td id=\"T_082f1_row8_col1\" class=\"data row8 col1\" >0.001665</td>\n",
              "      <td id=\"T_082f1_row8_col2\" class=\"data row8 col2\" >0.025651</td>\n",
              "      <td id=\"T_082f1_row8_col3\" class=\"data row8 col3\" >0.085472</td>\n",
              "      <td id=\"T_082f1_row8_col4\" class=\"data row8 col4\" >-0.028362</td>\n",
              "      <td id=\"T_082f1_row8_col5\" class=\"data row8 col5\" >-0.010084</td>\n",
              "      <td id=\"T_082f1_row8_col6\" class=\"data row8 col6\" >0.009612</td>\n",
              "      <td id=\"T_082f1_row8_col7\" class=\"data row8 col7\" >-0.011866</td>\n",
              "      <td id=\"T_082f1_row8_col8\" class=\"data row8 col8\" >1.000000</td>\n",
              "      <td id=\"T_082f1_row8_col9\" class=\"data row8 col9\" >-0.011421</td>\n",
              "      <td id=\"T_082f1_row8_col10\" class=\"data row8 col10\" >-0.156128</td>\n",
              "    </tr>\n",
              "    <tr>\n",
              "      <th id=\"T_082f1_level0_row9\" class=\"row_heading level0 row9\" >EstimatedSalary</th>\n",
              "      <td id=\"T_082f1_row9_col0\" class=\"data row9 col0\" >-0.005988</td>\n",
              "      <td id=\"T_082f1_row9_col1\" class=\"data row9 col1\" >0.015271</td>\n",
              "      <td id=\"T_082f1_row9_col2\" class=\"data row9 col2\" >-0.001384</td>\n",
              "      <td id=\"T_082f1_row9_col3\" class=\"data row9 col3\" >-0.007201</td>\n",
              "      <td id=\"T_082f1_row9_col4\" class=\"data row9 col4\" >0.007784</td>\n",
              "      <td id=\"T_082f1_row9_col5\" class=\"data row9 col5\" >0.012797</td>\n",
              "      <td id=\"T_082f1_row9_col6\" class=\"data row9 col6\" >0.014204</td>\n",
              "      <td id=\"T_082f1_row9_col7\" class=\"data row9 col7\" >-0.009933</td>\n",
              "      <td id=\"T_082f1_row9_col8\" class=\"data row9 col8\" >-0.011421</td>\n",
              "      <td id=\"T_082f1_row9_col9\" class=\"data row9 col9\" >1.000000</td>\n",
              "      <td id=\"T_082f1_row9_col10\" class=\"data row9 col10\" >0.012097</td>\n",
              "    </tr>\n",
              "    <tr>\n",
              "      <th id=\"T_082f1_level0_row10\" class=\"row_heading level0 row10\" >Exited</th>\n",
              "      <td id=\"T_082f1_row10_col0\" class=\"data row10 col0\" >-0.016571</td>\n",
              "      <td id=\"T_082f1_row10_col1\" class=\"data row10 col1\" >-0.006248</td>\n",
              "      <td id=\"T_082f1_row10_col2\" class=\"data row10 col2\" >-0.027094</td>\n",
              "      <td id=\"T_082f1_row10_col3\" class=\"data row10 col3\" >0.285323</td>\n",
              "      <td id=\"T_082f1_row10_col4\" class=\"data row10 col4\" >-0.014001</td>\n",
              "      <td id=\"T_082f1_row10_col5\" class=\"data row10 col5\" >0.118533</td>\n",
              "      <td id=\"T_082f1_row10_col6\" class=\"data row10 col6\" >-0.047820</td>\n",
              "      <td id=\"T_082f1_row10_col7\" class=\"data row10 col7\" >-0.007138</td>\n",
              "      <td id=\"T_082f1_row10_col8\" class=\"data row10 col8\" >-0.156128</td>\n",
              "      <td id=\"T_082f1_row10_col9\" class=\"data row10 col9\" >0.012097</td>\n",
              "      <td id=\"T_082f1_row10_col10\" class=\"data row10 col10\" >1.000000</td>\n",
              "    </tr>\n",
              "  </tbody>\n",
              "</table>\n"
            ]
          },
          "metadata": {},
          "execution_count": 7
        }
      ]
    },
    {
      "cell_type": "code",
      "source": [
        "x = dataset.iloc[:,3:-1].values\n",
        "y = dataset.iloc[:,-1].values"
      ],
      "metadata": {
        "id": "94LTzzuRVTgE"
      },
      "execution_count": null,
      "outputs": []
    },
    {
      "cell_type": "code",
      "source": [
        "LE = LabelEncoder()\n",
        "x[:,2] = LE.fit_transform(x[:,2])"
      ],
      "metadata": {
        "id": "doZfcmY1K8to"
      },
      "execution_count": null,
      "outputs": []
    },
    {
      "cell_type": "code",
      "source": [
        "CT = ColumnTransformer(transformers=[('encoder',OneHotEncoder(),[1])],remainder='passthrough')\n",
        "x = np.array(CT.fit_transform(x))"
      ],
      "metadata": {
        "id": "nseMjuoKLrIY"
      },
      "execution_count": null,
      "outputs": []
    },
    {
      "cell_type": "code",
      "source": [
        "x_train, x_test, y_train, y_test = train_test_split(x, y, test_size = 0.3, random_state = 0)"
      ],
      "metadata": {
        "id": "ujtAh2wwMjzs"
      },
      "execution_count": null,
      "outputs": []
    },
    {
      "cell_type": "code",
      "source": [
        "SC = StandardScaler()\n",
        "x_train = SC.fit_transform(x_train)\n",
        "x_test = SC.fit_transform(x_test)"
      ],
      "metadata": {
        "id": "DbZhH3CQMrb1"
      },
      "execution_count": null,
      "outputs": []
    },
    {
      "cell_type": "code",
      "source": [
        "model = Sequential()\n",
        "model.add(Dense(units=12, activation='relu'))\n",
        "model.add(Dense(units=6, activation='relu'))\n",
        "model.add(Dense(units=1, activation='sigmoid'))"
      ],
      "metadata": {
        "id": "ZnZiN6k5NO3b"
      },
      "execution_count": null,
      "outputs": []
    },
    {
      "cell_type": "code",
      "source": [
        "model.compile(optimizer='adam', loss='binary_crossentropy', metrics=['accuracy'])"
      ],
      "metadata": {
        "id": "xuMOuA7pNQxV"
      },
      "execution_count": null,
      "outputs": []
    },
    {
      "cell_type": "code",
      "source": [
        "model.fit(x_train, y_train, batch_size=32, epochs=24)"
      ],
      "metadata": {
        "id": "ch2PoUssOewr",
        "colab": {
          "base_uri": "https://localhost:8080/"
        },
        "outputId": "ead0b23f-8483-4176-a6ec-357dc6a0d5ab"
      },
      "execution_count": null,
      "outputs": [
        {
          "output_type": "stream",
          "name": "stdout",
          "text": [
            "Epoch 1/24\n",
            "219/219 [==============================] - 1s 2ms/step - loss: 0.5697 - accuracy: 0.7304\n",
            "Epoch 2/24\n",
            "219/219 [==============================] - 0s 2ms/step - loss: 0.4581 - accuracy: 0.8114\n",
            "Epoch 3/24\n",
            "219/219 [==============================] - 0s 2ms/step - loss: 0.4348 - accuracy: 0.8183\n",
            "Epoch 4/24\n",
            "219/219 [==============================] - 0s 2ms/step - loss: 0.4183 - accuracy: 0.8240\n",
            "Epoch 5/24\n",
            "219/219 [==============================] - 0s 2ms/step - loss: 0.4055 - accuracy: 0.8273\n",
            "Epoch 6/24\n",
            "219/219 [==============================] - 1s 2ms/step - loss: 0.3932 - accuracy: 0.8321\n",
            "Epoch 7/24\n",
            "219/219 [==============================] - 1s 2ms/step - loss: 0.3795 - accuracy: 0.8409\n",
            "Epoch 8/24\n",
            "219/219 [==============================] - 1s 2ms/step - loss: 0.3663 - accuracy: 0.8483\n",
            "Epoch 9/24\n",
            "219/219 [==============================] - 1s 2ms/step - loss: 0.3569 - accuracy: 0.8539\n",
            "Epoch 10/24\n",
            "219/219 [==============================] - 1s 3ms/step - loss: 0.3510 - accuracy: 0.8577\n",
            "Epoch 11/24\n",
            "219/219 [==============================] - 1s 3ms/step - loss: 0.3474 - accuracy: 0.8603\n",
            "Epoch 12/24\n",
            "219/219 [==============================] - 1s 3ms/step - loss: 0.3454 - accuracy: 0.8587\n",
            "Epoch 13/24\n",
            "219/219 [==============================] - 1s 2ms/step - loss: 0.3435 - accuracy: 0.8586\n",
            "Epoch 14/24\n",
            "219/219 [==============================] - 0s 2ms/step - loss: 0.3423 - accuracy: 0.8591\n",
            "Epoch 15/24\n",
            "219/219 [==============================] - 0s 2ms/step - loss: 0.3414 - accuracy: 0.8603\n",
            "Epoch 16/24\n",
            "219/219 [==============================] - 0s 2ms/step - loss: 0.3410 - accuracy: 0.8589\n",
            "Epoch 17/24\n",
            "219/219 [==============================] - 0s 2ms/step - loss: 0.3401 - accuracy: 0.8630\n",
            "Epoch 18/24\n",
            "219/219 [==============================] - 0s 2ms/step - loss: 0.3396 - accuracy: 0.8619\n",
            "Epoch 19/24\n",
            "219/219 [==============================] - 0s 2ms/step - loss: 0.3389 - accuracy: 0.8607\n",
            "Epoch 20/24\n",
            "219/219 [==============================] - 0s 2ms/step - loss: 0.3383 - accuracy: 0.8634\n",
            "Epoch 21/24\n",
            "219/219 [==============================] - 0s 2ms/step - loss: 0.3380 - accuracy: 0.8610\n",
            "Epoch 22/24\n",
            "219/219 [==============================] - 0s 2ms/step - loss: 0.3372 - accuracy: 0.8636\n",
            "Epoch 23/24\n",
            "219/219 [==============================] - 0s 2ms/step - loss: 0.3368 - accuracy: 0.8616\n",
            "Epoch 24/24\n",
            "219/219 [==============================] - 0s 2ms/step - loss: 0.3365 - accuracy: 0.8619\n"
          ]
        },
        {
          "output_type": "execute_result",
          "data": {
            "text/plain": [
              "<keras.callbacks.History at 0x7f4bc92cb2b0>"
            ]
          },
          "metadata": {},
          "execution_count": 24
        }
      ]
    },
    {
      "cell_type": "code",
      "source": [
        "model.summary()"
      ],
      "metadata": {
        "id": "kxYWxuXfQAhK",
        "colab": {
          "base_uri": "https://localhost:8080/"
        },
        "outputId": "688ce681-25fc-4b89-a02f-f53407868c5a"
      },
      "execution_count": null,
      "outputs": [
        {
          "output_type": "stream",
          "name": "stdout",
          "text": [
            "Model: \"sequential_1\"\n",
            "_________________________________________________________________\n",
            " Layer (type)                Output Shape              Param #   \n",
            "=================================================================\n",
            " dense_3 (Dense)             (None, 12)                156       \n",
            "                                                                 \n",
            " dense_4 (Dense)             (None, 6)                 78        \n",
            "                                                                 \n",
            " dense_5 (Dense)             (None, 1)                 7         \n",
            "                                                                 \n",
            "=================================================================\n",
            "Total params: 241\n",
            "Trainable params: 241\n",
            "Non-trainable params: 0\n",
            "_________________________________________________________________\n"
          ]
        }
      ]
    },
    {
      "cell_type": "markdown",
      "source": [
        "Predicting the result of single observation -->\n",
        "\n",
        "\n",
        "Use our ANN model to predict if the customer with the following informations will leave the bank:\n",
        "\n",
        "Geography: France\n",
        "\n",
        "Credit Score: 600\n",
        "\n",
        "Gender: Male\n",
        "\n",
        "Age: 40 years old\n",
        "\n",
        "Tenure: 3 years\n",
        "\n",
        "Balance: $ 60000\n",
        "\n",
        "Number of Products: 2\n",
        "\n",
        "Does this customer have a credit card ? Yes\n",
        "\n",
        "Is this customer an Active Member: Yes\n",
        "\n",
        "Estimated Salary: $ 50000\n",
        "\n",
        "So, should we say goodbye to that customer ?"
      ],
      "metadata": {
        "id": "h8OGVGSiwEIH"
      }
    },
    {
      "cell_type": "code",
      "source": [
        "print(model.predict(SC.transform([[1, 0, 0, 600, 1, 40, 3, 60000, 2, 1, 1, 50000]])) > 0.5)"
      ],
      "metadata": {
        "id": "iIELW9nJOo0n",
        "colab": {
          "base_uri": "https://localhost:8080/"
        },
        "outputId": "e9d9e03f-4318-47c0-880b-46c2cce4118b"
      },
      "execution_count": null,
      "outputs": [
        {
          "output_type": "stream",
          "name": "stdout",
          "text": [
            "1/1 [==============================] - 0s 93ms/step\n",
            "[[False]]\n"
          ]
        }
      ]
    },
    {
      "cell_type": "code",
      "source": [
        "y_pred = model.predict(x_test)\n",
        "y_pred = (y_pred > 0.5)\n",
        "print(np.concatenate((y_pred.reshape(len(y_pred),1), y_test.reshape(len(y_test),1)),1))"
      ],
      "metadata": {
        "id": "fMcpIXvEPL5H",
        "colab": {
          "base_uri": "https://localhost:8080/"
        },
        "outputId": "f64d989b-0bcd-4a9b-9105-3d2ca9b37a8e"
      },
      "execution_count": null,
      "outputs": [
        {
          "output_type": "stream",
          "name": "stdout",
          "text": [
            "94/94 [==============================] - 0s 1ms/step\n",
            "[[0 0]\n",
            " [0 1]\n",
            " [0 0]\n",
            " ...\n",
            " [0 0]\n",
            " [0 0]\n",
            " [1 1]]\n"
          ]
        }
      ]
    },
    {
      "cell_type": "code",
      "source": [
        "print(\"Confusion Matrix: \")\n",
        "cm = confusion_matrix(y_test, y_pred)\n",
        "print(cm)"
      ],
      "metadata": {
        "id": "cRofk_KsPPRW",
        "colab": {
          "base_uri": "https://localhost:8080/"
        },
        "outputId": "cfbe80df-1b90-4516-cd82-4c1b4b5ce436"
      },
      "execution_count": null,
      "outputs": [
        {
          "output_type": "stream",
          "name": "stdout",
          "text": [
            "[[2278  101]\n",
            " [ 320  301]]\n"
          ]
        }
      ]
    },
    {
      "cell_type": "code",
      "source": [
        "print(\"Classification Report: \")\n",
        "print(classification_report(y_test, y_pred))"
      ],
      "metadata": {
        "colab": {
          "base_uri": "https://localhost:8080/"
        },
        "id": "wpFo0hiBQwAH",
        "outputId": "62f20cd4-53ac-4018-f2db-acf633857348"
      },
      "execution_count": null,
      "outputs": [
        {
          "output_type": "stream",
          "name": "stdout",
          "text": [
            "              precision    recall  f1-score   support\n",
            "\n",
            "           0       0.88      0.96      0.92      2379\n",
            "           1       0.75      0.48      0.59       621\n",
            "\n",
            "    accuracy                           0.86      3000\n",
            "   macro avg       0.81      0.72      0.75      3000\n",
            "weighted avg       0.85      0.86      0.85      3000\n",
            "\n"
          ]
        }
      ]
    },
    {
      "cell_type": "code",
      "source": [
        "print(\"Accuracy: {:.2f}%\".format(accuracy_score(y_test, y_pred)*100))\n",
        "print(\"Precision: {:.2f}%\".format(precision_score(y_test, y_pred)*100))\n",
        "print(\"Recall: {:.2f}%\".format(recall_score(y_test, y_pred)*100))\n",
        "print(\"F1_score: {:.2f}%\".format(f1_score(y_test, y_pred)*100))"
      ],
      "metadata": {
        "colab": {
          "base_uri": "https://localhost:8080/"
        },
        "id": "6PHfhCrbP-KX",
        "outputId": "5f99f934-47bc-4ce9-9621-fb5f9b234f28"
      },
      "execution_count": null,
      "outputs": [
        {
          "output_type": "stream",
          "name": "stdout",
          "text": [
            "Accuracy: 85.97%\n",
            "Precision: 74.88%\n",
            "Recall: 48.47%\n",
            "F1_score: 58.85%\n"
          ]
        }
      ]
    }
  ]
}