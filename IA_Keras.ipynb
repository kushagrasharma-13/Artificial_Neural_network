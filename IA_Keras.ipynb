{
  "nbformat": 4,
  "nbformat_minor": 0,
  "metadata": {
    "colab": {
      "provenance": [],
      "authorship_tag": "ABX9TyN9W867EmUuf4Bk6tDUXl9H",
      "include_colab_link": true
    },
    "kernelspec": {
      "name": "python3",
      "display_name": "Python 3"
    },
    "language_info": {
      "name": "python"
    }
  },
  "cells": [
    {
      "cell_type": "markdown",
      "metadata": {
        "id": "view-in-github",
        "colab_type": "text"
      },
      "source": [
        "<a href=\"https://colab.research.google.com/github/kushagrasharma-13/Artificial_Neural_network/blob/main/IA_Keras.ipynb\" target=\"_parent\"><img src=\"https://colab.research.google.com/assets/colab-badge.svg\" alt=\"Open In Colab\"/></a>"
      ]
    },
    {
      "cell_type": "markdown",
      "source": [
        "Image Augmentation with Keras"
      ],
      "metadata": {
        "id": "qtWinU7_T_CX"
      }
    },
    {
      "cell_type": "code",
      "source": [
        "from google.colab import drive\n",
        "drive.mount('/content/drive')"
      ],
      "metadata": {
        "colab": {
          "base_uri": "https://localhost:8080/"
        },
        "id": "wCe6ZNqDscfO",
        "outputId": "04a48fc4-686f-4592-d7ef-d830a697912c"
      },
      "execution_count": null,
      "outputs": [
        {
          "output_type": "stream",
          "name": "stdout",
          "text": [
            "Mounted at /content/drive\n"
          ]
        }
      ]
    },
    {
      "cell_type": "code",
      "execution_count": null,
      "metadata": {
        "id": "d-KrrxSYT1Sv"
      },
      "outputs": [],
      "source": [
        "from keras.preprocessing.image import ImageDataGenerator\n",
        "from keras.utils import array_to_img, img_to_array, load_img"
      ]
    },
    {
      "cell_type": "code",
      "source": [
        "datagen = ImageDataGenerator(rotation_range=40,\n",
        "                             shear_range=0.2,\n",
        "                             zoom_range=0.2,\n",
        "                             horizontal_flip=False,\n",
        "                             vertical_flip=True,\n",
        "                             fill_mode='nearest',\n",
        "                             brightness_range=(0.5, 1.5))"
      ],
      "metadata": {
        "id": "4ytq2263UtH9"
      },
      "execution_count": null,
      "outputs": []
    },
    {
      "cell_type": "code",
      "source": [
        "img = load_img('/content/drive/MyDrive/Python/Datasets/Photo.jpg')"
      ],
      "metadata": {
        "id": "QPcQPccvU4yu"
      },
      "execution_count": null,
      "outputs": []
    },
    {
      "cell_type": "code",
      "source": [
        "# Converting the input sample image to an array\n",
        "x = img_to_array(img)\n",
        "# Reshaping the input image\n",
        "x = x.reshape((1, ) + x.shape) "
      ],
      "metadata": {
        "id": "zR0vtiOpU7Lw"
      },
      "execution_count": null,
      "outputs": []
    },
    {
      "cell_type": "code",
      "source": [
        "i = 0\n",
        "for batch in datagen.flow(x, \n",
        "                          batch_size = 1,\n",
        "                          save_to_dir ='/content/', \n",
        "                          save_prefix ='image', \n",
        "                          save_format ='jpeg'):\n",
        "    i += 1\n",
        "    if i > 5:\n",
        "        break"
      ],
      "metadata": {
        "id": "kk08vO7qU83m"
      },
      "execution_count": null,
      "outputs": []
    }
  ]
}